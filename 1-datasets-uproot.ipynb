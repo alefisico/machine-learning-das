{
 "cells": [
  {
   "cell_type": "markdown",
   "metadata": {},
   "source": [
    "# Datasets\n",
    "Author: Javier Duarte\n"
   ]
  },
  {
   "cell_type": "markdown",
   "metadata": {},
   "source": [
    "## Load datasets from `ROOT` files using `uproot`\n",
    "Here we load the `ROOT` datasets in python using `uproot`"
   ]
  },
  {
   "cell_type": "code",
   "execution_count": null,
   "metadata": {},
   "outputs": [],
   "source": [
    "import uproot"
   ]
  },
  {
   "cell_type": "code",
   "execution_count": null,
   "metadata": {},
   "outputs": [],
   "source": [
    "uproot.__version__"
   ]
  },
  {
   "cell_type": "markdown",
   "metadata": {},
   "source": [
    "## Load `ROOT` files\n",
    "Here we load the `ROOT` datasets into `NumPy` arrays (possibly with jagged structured. See: https://github.com/scikit-hep/uproot"
   ]
  },
  {
   "cell_type": "code",
   "execution_count": null,
   "metadata": {},
   "outputs": [],
   "source": [
    "import numpy as np\n",
    "import h5py\n",
    "\n",
    "treename = 'HZZ4LeptonsAnalysisReduced'\n",
    "filename = {}\n",
    "upfile = {}\n",
    "params = {}\n",
    "\n",
    "filename['bkg'] = 'data/ntuple_4mu_bkg.root'\n",
    "filename['VV'] = 'data/ntuple_4mu_VV.root'\n",
    "\n",
    "upfile['bkg'] = uproot.open(f'{filename[\"bkg\"]}:{treename}')\n",
    "upfile['VV'] = uproot.open(f'{filename[\"VV\"]}:{treename}')\n",
    "\n",
    "params['bkg'] = upfile['bkg'].arrays() # returns a dictionary of arrays\n",
    "params['VV'] = upfile['VV'].arrays()\n",
    "\n",
    "# print all variables\n",
    "print(type(params['bkg']))\n",
    "print(params['bkg'][0].fields)\n",
    "\n",
    "# print the shape of one of the NumPy arrays\n",
    "# print(params['bkg']['f_mass4l'].shape)\n",
    "\n",
    "# print mass4l value of first entry\n",
    "print(params['bkg']['f_mass4l'][0])\n",
    "\n",
    "# print massjj value of first entry\n",
    "print(params['bkg']['f_massjj'][0])"
   ]
  },
  {
   "cell_type": "markdown",
   "metadata": {},
   "source": [
    "## Convert `NumPy` arrays to `pandas` DataFrames\n",
    "In my opinion, `pandas` DataFrames are a more convenient/flexible data container in python: https://pandas.pydata.org/pandas-docs/stable/generated/pandas.DataFrame.html. \n",
    "So we'll use this instead of structured `NumPy` arrays."
   ]
  },
  {
   "cell_type": "code",
   "execution_count": null,
   "metadata": {},
   "outputs": [],
   "source": [
    "import pandas as pd\n",
    "import awkward as ak\n",
    "\n",
    "\n",
    "df = {}\n",
    "df['bkg'] = ak.to_pandas(params['bkg'])\n",
    "df['VV'] = ak.to_pandas(params['VV'])\n",
    "\n",
    "# print first entry\n",
    "print(df['bkg'].iloc[:1])\n",
    "\n",
    "# print shape of DataFrame\n",
    "print(df['bkg'].shape)\n",
    "\n",
    "# print first entry for f_mass4l and f_massjj\n",
    "print(df['bkg'][['f_mass4l','f_massjj']].iloc[:1])\n",
    "\n",
    "# convert back into unstructured NumPY array\n",
    "print(df['bkg'].values)\n",
    "print(df['bkg'].values.shape)\n",
    "\n",
    "# get boolean array\n",
    "print(df['bkg']['f_mass4l'] > 125)\n",
    "\n",
    "# cut usigg this boolean array\n",
    "print(df['bkg']['f_mass4l'][df['bkg']['f_mass4l'] > 125])"
   ]
  },
  {
   "cell_type": "code",
   "execution_count": null,
   "metadata": {},
   "outputs": [],
   "source": []
  }
 ],
 "metadata": {
  "kernelspec": {
   "display_name": "Python 3 (ipykernel)",
   "language": "python",
   "name": "python3"
  },
  "language_info": {
   "codemirror_mode": {
    "name": "ipython",
    "version": 3
   },
   "file_extension": ".py",
   "mimetype": "text/x-python",
   "name": "python",
   "nbconvert_exporter": "python",
   "pygments_lexer": "ipython3",
   "version": "3.10.8"
  }
 },
 "nbformat": 4,
 "nbformat_minor": 2
}
