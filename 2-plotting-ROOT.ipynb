{
 "cells": [
  {
   "cell_type": "markdown",
   "metadata": {},
   "source": [
    "# Plotting\n",
    "Author: Javier Duarte"
   ]
  },
  {
   "cell_type": "markdown",
   "metadata": {},
   "source": [
    "## Plotting in `pyROOT`\n",
    "Here we do standard plotting in `pyROOT`"
   ]
  },
  {
   "cell_type": "code",
   "execution_count": 1,
   "metadata": {},
   "outputs": [
    {
     "name": "stdout",
     "output_type": "stream",
     "text": [
      "Welcome to JupyROOT 6.26/06\n"
     ]
    },
    {
     "data": {
      "image/png": "[encoded data removed]",
      "text/plain": [
       "<IPython.core.display.Image object>"
      ]
     },
     "metadata": {},
     "output_type": "display_data"
    },
    {
     "data": {
      "image/png": "[encoded data removed]",
      "text/plain": [
       "<IPython.core.display.Image object>"
      ]
     },
     "metadata": {},
     "output_type": "display_data"
    }
   ],
   "source": [
    "import ROOT as rt\n",
    "rt.gStyle.SetOptTitle(0)\n",
    "rt.gStyle.SetOptStat(0)\n",
    "\n",
    "treename = 'HZZ4LeptonsAnalysisReduced'\n",
    "\n",
    "tfile = {}\n",
    "tree = {}\n",
    "hist = {}\n",
    "tfile['VV'] = rt.TFile.Open('data/ntuple_4mu_VV.root')\n",
    "tfile['bkg'] = rt.TFile.Open('data/ntuple_4mu_bkg.root')\n",
    "tree['VV'] = tfile['VV'].Get(treename)\n",
    "tree['bkg'] = tfile['bkg'].Get(treename)\n",
    "\n",
    "hist['VV_f_mass4l'] = rt.TH1D('VV_f_mass4l','VV_f_mass4l',100, 80, 140)\n",
    "hist['bkg_f_mass4l'] = rt.TH1D('bkg_f_mass4l','bkg_f_mass4l',100, 80, 140)\n",
    "\n",
    "tree['VV'].Project('VV_f_mass4l','f_mass4l') \n",
    "tree['bkg'].Project('bkg_f_mass4l','f_mass4l')\n",
    "\n",
    "hist['VV_f_massjj'] = rt.TH1D('VV_f_massjj','VV_f_massjj',100, 0, 2000)\n",
    "hist['bkg_f_massjj'] = rt.TH1D('bkg_f_massjj','bkg_f_massjj',100, 0, 2000)\n",
    "\n",
    "tree['VV'].Project('VV_f_massjj','f_massjj')\n",
    "tree['bkg'].Project('bkg_f_massjj','f_massjj')\n",
    "\n",
    "hist['VV_f_mass4l'].SetLineColor(rt.kRed)\n",
    "hist['VV_f_massjj'].SetLineColor(rt.kRed)\n",
    "\n",
    "%jsroot off\n",
    "c1 = rt.TCanvas('c1','c1',500,400)\n",
    "hist['VV_f_mass4l'].GetXaxis().SetTitle('f_mass4l')\n",
    "hist['VV_f_mass4l'].GetYaxis().SetTitle('Frequency')\n",
    "hist['VV_f_mass4l'].Draw('hist')\n",
    "hist['bkg_f_mass4l'].Draw('same')\n",
    "\n",
    "\n",
    "legend = rt.TLegend(0.75,0.75,0.9,0.9)\n",
    "legend.AddEntry(hist['bkg_f_mass4l'], ' bkg', 'f')\n",
    "legend.AddEntry(hist['VV_f_mass4l'], ' VV', 'f')\n",
    "legend.Draw()\n",
    "\n",
    "c1.Draw()\n",
    "\n",
    "c2 = rt.TCanvas('c2','c2',500,400)\n",
    "hist['bkg_f_massjj'].GetXaxis().SetTitle('f_massjj')\n",
    "hist['bkg_f_massjj'].GetYaxis().SetTitle('Frequency')\n",
    "hist['bkg_f_massjj'].Draw('hist')\n",
    "hist['VV_f_massjj'].Draw('same')\n",
    "\n",
    "legend.Draw()\n",
    "\n",
    "c2.Draw()"
   ]
  },
  {
   "cell_type": "code",
   "execution_count": null,
   "metadata": {},
   "outputs": [],
   "source": []
  }
 ],
 "metadata": {
  "kernelspec": {
   "display_name": "root-analysis-env",
   "language": "python",
   "name": "root-analysis-env"
  },
  "language_info": {
   "codemirror_mode": {
    "name": "ipython",
    "version": 3
   },
   "file_extension": ".py",
   "mimetype": "text/x-python",
   "name": "python",
   "nbconvert_exporter": "python",
   "pygments_lexer": "ipython3",
   "version": "3.10.8"
  }
 },
 "nbformat": 4,
 "nbformat_minor": 2
}
